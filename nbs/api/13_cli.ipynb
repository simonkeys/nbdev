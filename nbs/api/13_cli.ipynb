{
 "cells": [
  {
   "attachments": {},
   "cell_type": "markdown",
   "id": "ff4908a6",
   "metadata": {},
   "source": [
    "# cli\n",
    "> CLI commands\n",
    "- order: 13"
   ]
  },
  {
   "cell_type": "code",
   "execution_count": null,
   "id": "c6d13dc1",
   "metadata": {},
   "outputs": [],
   "source": [
    "#|default_exp cli"
   ]
  },
  {
   "cell_type": "code",
   "execution_count": null,
   "id": "6a35c7c4-748f-4c82-a9bf-c780a8d83e90",
   "metadata": {},
   "outputs": [],
   "source": [
    "#|export\n",
    "from __future__ import annotations\n",
    "import warnings\n",
    "\n",
    "from nbdev.config import *\n",
    "from nbdev.process import *\n",
    "from nbdev.processors import *\n",
    "from nbdev.doclinks import *\n",
    "from nbdev.test import *\n",
    "from nbdev.clean import *\n",
    "from nbdev.quarto import nbdev_readme, refresh_quarto_yml\n",
    "from nbdev.frontmatter import FrontmatterProc\n",
    "\n",
    "from execnb.nbio import *\n",
    "from fastcore.meta import *\n",
    "from fastcore.utils import *\n",
    "from fastcore.script import *\n",
    "from fastcore.style import S\n",
    "from fastcore.shutil import rmtree,move\n",
    "\n",
    "from urllib.error import HTTPError\n",
    "from contextlib import redirect_stdout\n",
    "import os, tarfile, sys"
   ]
  },
  {
   "cell_type": "code",
   "execution_count": null,
   "id": "1e623a3d-3e77-44c6-adf3-4768b78328c5",
   "metadata": {},
   "outputs": [],
   "source": [
    "#|hide\n",
    "import tempfile\n",
    "from nbdev import show_doc\n",
    "from fastcore.test import *"
   ]
  },
  {
   "attachments": {},
   "cell_type": "markdown",
   "id": "e9fc60a8",
   "metadata": {},
   "source": [
    "## Filter -"
   ]
  },
  {
   "cell_type": "code",
   "execution_count": null,
   "id": "86c29369",
   "metadata": {},
   "outputs": [],
   "source": [
    "#|export\n",
    "@call_parse\n",
    "def nbdev_filter(\n",
    "    nb_txt:str=None,  # Notebook text (uses stdin if not provided)\n",
    "    fname:str=None,  # Notebook to read (uses `nb_txt` if not provided)\n",
    "    printit:bool_arg=True, # Print to stdout?\n",
    "):\n",
    "    \"A notebook filter for Quarto\"\n",
    "    os.environ[\"IN_TEST\"] = \"1\"\n",
    "    try: filt = globals()[get_config().get('exporter', 'FilterDefaults')]()\n",
    "    except FileNotFoundError: filt = FilterDefaults()\n",
    "    if fname:        nb_txt = Path(fname).read_text()\n",
    "    elif not nb_txt: nb_txt = sys.stdin.read()\n",
    "    nb = dict2nb(loads(nb_txt))\n",
    "    if printit:\n",
    "        with open(os.devnull, 'w', encoding=\"utf-8\") as dn:\n",
    "            with redirect_stdout(dn): filt(nb)\n",
    "    else: filt(nb)\n",
    "    res = nb2str(nb)\n",
    "    del os.environ[\"IN_TEST\"]\n",
    "    if printit: print(res, flush=True)\n",
    "    else: return res"
   ]
  },
  {
   "cell_type": "code",
   "execution_count": null,
   "id": "fe4dc8bf",
   "metadata": {},
   "outputs": [],
   "source": [
    "#|hide\n",
    "# res = nbdev_filter(fname=get_config().nbs_path/'API'/'merge.ipynb', printit=False)\n",
    "# print(res)"
   ]
  },
  {
   "attachments": {},
   "cell_type": "markdown",
   "id": "3e7e76f7-7b19-4347-a52b-c33ad15d2178",
   "metadata": {},
   "source": [
    "## New -"
   ]
  },
  {
   "cell_type": "code",
   "execution_count": null,
   "id": "a1c001af-2c7c-4e0b-8c7d-a7d40c08f5e9",
   "metadata": {},
   "outputs": [],
   "source": [
    "#|export\n",
    "def extract_tgz(url, dest='.'):\n",
    "    from fastcore.net import urlopen\n",
    "    with urlopen(url) as u: tarfile.open(mode='r:gz', fileobj=u).extractall(dest)"
   ]
  },
  {
   "cell_type": "code",
   "execution_count": null,
   "id": "60df4b28",
   "metadata": {},
   "outputs": [],
   "source": [
    "#|export\n",
    "def _render_nb(fn, cfg):\n",
    "    \"Render templated values like `{{lib_name}}` in notebook at `fn` from `cfg`\"\n",
    "    txt = fn.read_text()\n",
    "    txt = txt.replace('from your_lib.core', f'from {cfg.lib_path}.core') # for compatibility with old templates\n",
    "    for k,v in cfg.d.items(): txt = txt.replace('{{'+k+'}}', v)\n",
    "    fn.write_text(txt)"
   ]
  },
  {
   "cell_type": "code",
   "execution_count": null,
   "id": "dd385911-aa8f-44e7-8d46-7b8a20f3b010",
   "metadata": {},
   "outputs": [],
   "source": [
    "#|export\n",
    "def _update_repo_meta(cfg):\n",
    "    \"Enable gh pages and update the homepage and description in your GitHub repo.\"\n",
    "    token=os.getenv('GITHUB_TOKEN')\n",
    "    if token:\n",
    "        from ghapi.core import GhApi\n",
    "        api = GhApi(owner=cfg.user, repo=cfg.repo, token=token)\n",
    "        try: api.repos.update(homepage=f'{cfg.doc_host}{cfg.doc_baseurl}', description=cfg.description)\n",
    "        except HTTPError:print(f\"Could not update the description & URL on the repo: {cfg.user}/{cfg.repo} using $GITHUB_TOKEN.\\n\"\n",
    "                  \"Use a token with the correction permissions or perform these steps manually.\")"
   ]
  },
  {
   "cell_type": "code",
   "execution_count": null,
   "id": "c4a663d9",
   "metadata": {},
   "outputs": [],
   "source": [
    "#|export\n",
    "@call_parse\n",
    "@delegates(nbdev_create_config)\n",
    "def nbdev_new(**kwargs):\n",
    "    \"Create an nbdev project.\"\n",
    "    from ghapi.core import GhApi\n",
    "    nbdev_create_config.__wrapped__(**kwargs)\n",
    "    cfg = get_config()\n",
    "    _update_repo_meta(cfg)\n",
    "\n",
    "    path = Path()\n",
    "\n",
    "    _ORG_OR_USR = 'fastai'\n",
    "    _REPOSITORY = 'nbdev-template'\n",
    "    _TEMPLATE = f'{_ORG_OR_USR}/{_REPOSITORY}'\n",
    "    template = kwargs.get('template', _TEMPLATE)\n",
    "    try:\n",
    "        org_or_usr, repo = template.split('/')\n",
    "    except ValueError:\n",
    "        org_or_usr, repo = _ORG_OR_USR, _REPOSITORY\n",
    "\n",
    "\n",
    "    tag = kwargs.get('tag', None)\n",
    "    if tag is None:\n",
    "        with warnings.catch_warnings():\n",
    "            warnings.simplefilter('ignore', UserWarning)\n",
    "\n",
    "            tag = GhApi(gh_host='https://api.github.com', authenticate=False).repos.get_latest_release(org_or_usr, repo).tag_name\n",
    "\n",
    "    url = f\"https://github.com/{org_or_usr}/{repo}/archive/{tag}.tar.gz\"\n",
    "    extract_tgz(url)\n",
    "    tmpl_path = path/f'{repo}-{tag}'\n",
    "    \n",
    "    cfg.nbs_path.mkdir(exist_ok=True)\n",
    "    nbexists = bool(first(cfg.nbs_path.glob('*.ipynb')))\n",
    "    _nbs_path_sufs = ('.ipynb','.css')\n",
    "    for o in tmpl_path.ls():\n",
    "        p = cfg.nbs_path if o.suffix in _nbs_path_sufs else path\n",
    "        if o.name == '_quarto.yml': continue\n",
    "        if o.name == 'index.ipynb': _render_nb(o, cfg)\n",
    "        if o.name == '00_core.ipynb' and not nbexists: move(o, p)\n",
    "        elif not (path/o.name).exists(): move(o, p)\n",
    "    rmtree(tmpl_path)\n",
    "\n",
    "    refresh_quarto_yml()\n",
    "\n",
    "    nbdev_export.__wrapped__()\n",
    "    nbdev_readme.__wrapped__()"
   ]
  },
  {
   "attachments": {},
   "cell_type": "markdown",
   "id": "2239c092",
   "metadata": {},
   "source": [
    "It works by copying contents from the latest tagged [`nbdev-template`](https://github.com/fastai/nbdev-template) release, and rendering termplate variables using the created settings.ini file. Settings can be passed via command line args; missing settings are inferred from the current git/GitHub repo, otherwise prompted for."
   ]
  },
  {
   "cell_type": "code",
   "execution_count": null,
   "id": "69458d7f-cda3-4055-aecf-07d047c7a683",
   "metadata": {},
   "outputs": [],
   "source": [
    "#|export\n",
    "mapping = {\n",
    "  'mit': 'mit',\n",
    "  'apache2': 'apache-2.0',\n",
    "  'gpl2': 'gpl-2.0',\n",
    "  'gpl3': 'gpl-3.0',\n",
    "  'bsd3': 'bsd-3-clause'\n",
    "}"
   ]
  },
  {
   "cell_type": "code",
   "execution_count": null,
   "id": "a1116ee1-f5cb-4b63-8630-b64cd2ae3c12",
   "metadata": {},
   "outputs": [],
   "source": [
    "#|export\n",
    "@call_parse\n",
    "def nbdev_update_license(\n",
    "    to: str=None, # update license to\n",
    "):\n",
    "    \"Allows you to update the license of your project.\"\n",
    "    from ghapi.core import GhApi\n",
    "    warnings.filterwarnings(\"ignore\")\n",
    "    avail_lic = GhApi().licenses.get_all_commonly_used().map(lambda x: x['key'])\n",
    "\n",
    "    cfg = get_config()\n",
    "    curr_lic = cfg['license']\n",
    "\n",
    "    mapped = mapping.get(to, None)\n",
    "\n",
    "    if mapped not in avail_lic: raise ValueError(f\"{to} is not an available license\")\n",
    "    body = GhApi().licenses.get(mapped)['body']\n",
    "\n",
    "    body = body.replace('[year], [fullname]', cfg['copyright'])\n",
    "    body = body.replace('[year] [fullname]', cfg['copyright'])\n",
    "\n",
    "    content = open(\"settings.ini\", \"r\").read()\n",
    "    content = re.sub(r\"^(license\\s*=\\s*).*?$\", r\"\\1 \" + to, content, flags=re.MULTILINE)\n",
    "\n",
    "    config = open(\"settings.ini\", \"w\")\n",
    "    config.write(content)\n",
    "\n",
    "    lic = open('LICENSE', 'w')\n",
    "    lic.write(body)\n",
    "    print(f\"License updated from {curr_lic} to {to}\")"
   ]
  },
  {
   "cell_type": "code",
   "execution_count": null,
   "id": "edc5f6e9",
   "metadata": {},
   "outputs": [],
   "source": [
    "#|hide\n",
    "# get_config.cache_clear()\n",
    "# with tempfile.TemporaryDirectory() as d, working_directory(d):\n",
    "#     nbdev_new.__wrapped__(repo='my-project',branch='main',user='fastai',author='fastai',author_email='info@fast.ai',description='A test project')"
   ]
  },
  {
   "attachments": {},
   "cell_type": "markdown",
   "id": "280e0d6d-6559-4fc3-9478-320ce5eff0dc",
   "metadata": {},
   "source": [
    "## Help"
   ]
  },
  {
   "cell_type": "code",
   "execution_count": null,
   "id": "e34f6ff4-f85b-4805-b406-121279cc9246",
   "metadata": {},
   "outputs": [],
   "source": [
    "#|export\n",
    "@call_parse\n",
    "def chelp():\n",
    "    \"Show help for all console scripts\"\n",
    "    from fastcore.xtras import console_help\n",
    "    console_help('nbdev')"
   ]
  },
  {
   "cell_type": "code",
   "execution_count": null,
   "id": "b50d27fb-c343-47e2-a008-7ebdd02e1356",
   "metadata": {},
   "outputs": [
    {
     "name": "stdout",
     "output_type": "stream",
     "text": [
      "\u001b[1m\u001b[94mnbdev_bump_version\u001b[0m              Increment version in settings.ini by one\n",
      "\u001b[1m\u001b[94mnbdev_changelog\u001b[0m                 Create a CHANGELOG.md file from closed and labeled GitHub issues\n",
      "\u001b[1m\u001b[94mnbdev_clean\u001b[0m                     Clean all notebooks in `fname` to avoid merge conflicts\n",
      "\u001b[1m\u001b[94mnbdev_conda\u001b[0m                     Create a `meta.yaml` file ready to be built into a package, and optionally build and upload it\n",
      "\u001b[1m\u001b[94mnbdev_create_config\u001b[0m             Create a config file.\n",
      "\u001b[1m\u001b[94mnbdev_docs\u001b[0m                      Create Quarto docs and README.md\n",
      "\u001b[1m\u001b[94mnbdev_export\u001b[0m                    Export notebooks in `path` to Python modules\n",
      "\u001b[1m\u001b[94mnbdev_filter\u001b[0m                    A notebook filter for Quarto\n",
      "\u001b[1m\u001b[94mnbdev_fix\u001b[0m                       Create working notebook from conflicted notebook `nbname`\n",
      "\u001b[1m\u001b[94mnbdev_help\u001b[0m                      Show help for all console scripts\n",
      "\u001b[1m\u001b[94mnbdev_install\u001b[0m                   Install Quarto and the current library\n",
      "\u001b[1m\u001b[94mnbdev_install_hooks\u001b[0m             Install Jupyter and git hooks to automatically clean, trust, and fix merge conflicts in notebooks\n",
      "\u001b[1m\u001b[94mnbdev_install_quarto\u001b[0m            Install latest Quarto on macOS or Linux, prints instructions for Windows\n",
      "\u001b[1m\u001b[94mnbdev_merge\u001b[0m                     Git merge driver for notebooks\n",
      "\u001b[1m\u001b[94mnbdev_migrate\u001b[0m                   Convert all markdown and notebook files in `path` from v1 to v2\n",
      "\u001b[1m\u001b[94mnbdev_new\u001b[0m                       Create an nbdev project.\n",
      "\u001b[1m\u001b[94mnbdev_prepare\u001b[0m                   Export, test, and clean notebooks, and render README if needed\n",
      "\u001b[1m\u001b[94mnbdev_preview\u001b[0m                   Preview docs locally\n",
      "\u001b[1m\u001b[94mnbdev_proc_nbs\u001b[0m                  Process notebooks in `path` for docs rendering\n",
      "\u001b[1m\u001b[94mnbdev_pypi\u001b[0m                      Create and upload Python package to PyPI\n",
      "\u001b[1m\u001b[94mnbdev_readme\u001b[0m                    None\n",
      "\u001b[1m\u001b[94mnbdev_release_both\u001b[0m              Release both conda and PyPI packages\n",
      "\u001b[1m\u001b[94mnbdev_release_gh\u001b[0m                Calls `nbdev_changelog`, lets you edit the result, then pushes to git and calls `nbdev_release_git`\n",
      "\u001b[1m\u001b[94mnbdev_release_git\u001b[0m               Tag and create a release in GitHub for the current version\n",
      "\u001b[1m\u001b[94mnbdev_sidebar\u001b[0m                   Create sidebar.yml\n",
      "\u001b[1m\u001b[94mnbdev_test\u001b[0m                      Test in parallel notebooks matching `path`, passing along `flags`\n",
      "\u001b[1m\u001b[94mnbdev_trust\u001b[0m                     Trust notebooks matching `fname`\n",
      "\u001b[1m\u001b[94mnbdev_update\u001b[0m                    Propagate change in modules matching `fname` to notebooks that created them\n"
     ]
    }
   ],
   "source": [
    "#|exec_doc\n",
    "chelp()"
   ]
  },
  {
   "attachments": {},
   "cell_type": "markdown",
   "id": "aa35b010",
   "metadata": {},
   "source": [
    "## Export -"
   ]
  },
  {
   "cell_type": "code",
   "execution_count": null,
   "id": "3d8031ce",
   "metadata": {},
   "outputs": [],
   "source": [
    "#|hide\n",
    "import nbdev; nbdev.nbdev_export()"
   ]
  },
  {
   "cell_type": "code",
   "execution_count": null,
   "id": "12588a26-43a6-42c4-bacd-896293c871ab",
   "metadata": {},
   "outputs": [],
   "source": []
  }
 ],
 "metadata": {
  "kernelspec": {
   "display_name": "python3",
   "language": "python",
   "name": "python3"
  }
 },
 "nbformat": 4,
 "nbformat_minor": 5
}
