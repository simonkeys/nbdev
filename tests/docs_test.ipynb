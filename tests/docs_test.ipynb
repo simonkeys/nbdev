{
 "cells": [
  {
   "cell_type": "raw",
   "id": "de773fab",
   "metadata": {},
   "source": [
    "---\n",
    "execute:\n",
    "  echo: false\n",
    "---"
   ]
  },
  {
   "cell_type": "markdown",
   "id": "d3df6e7b",
   "metadata": {},
   "source": [
    "# a title\n",
    "> A description\n",
    "- key1: value1\n",
    "- key2: value2\n",
    "- categories: [c1, c2]"
   ]
  },
  {
   "cell_type": "code",
   "execution_count": null,
   "id": "79d87f7d-9b49-4618-a254-98a04c566138",
   "metadata": {},
   "outputs": [],
   "source": [
    "#|hide\n",
    "#|default_exp foobar"
   ]
  },
  {
   "cell_type": "markdown",
   "id": "7746fc7d",
   "metadata": {},
   "source": [
    "some md"
   ]
  },
  {
   "cell_type": "code",
   "execution_count": null,
   "id": "65751e43",
   "metadata": {},
   "outputs": [],
   "source": [
    "#|export\n",
    "import re"
   ]
  },
  {
   "cell_type": "code",
   "execution_count": null,
   "id": "fcebc8c3",
   "metadata": {},
   "outputs": [],
   "source": [
    "from nbdev.showdoc import show_doc"
   ]
  },
  {
   "cell_type": "code",
   "execution_count": null,
   "id": "f791a06e",
   "metadata": {},
   "outputs": [
    {
     "name": "stdout",
     "output_type": "stream",
     "text": [
      "\u001b[94mhello\n"
     ]
    }
   ],
   "source": [
    "print('\\033[94mhello')"
   ]
  },
  {
   "cell_type": "code",
   "execution_count": null,
   "id": "54fe0b87",
   "metadata": {},
   "outputs": [
    {
     "data": {
      "text/plain": [
       "2"
      ]
     },
     "execution_count": null,
     "metadata": {},
     "output_type": "execute_result"
    }
   ],
   "source": [
    "1+1"
   ]
  },
  {
   "cell_type": "code",
   "execution_count": null,
   "id": "a744e0b7",
   "metadata": {},
   "outputs": [],
   "source": [
    "import pandas as pd"
   ]
  },
  {
   "cell_type": "code",
   "execution_count": null,
   "id": "fb865f17",
   "metadata": {},
   "outputs": [
    {
     "data": {
      "text/html": [
       "<div>\n",
       "<style scoped>\n",
       "    .dataframe tbody tr th:only-of-type {\n",
       "        vertical-align: middle;\n",
       "    }\n",
       "\n",
       "    .dataframe tbody tr th {\n",
       "        vertical-align: top;\n",
       "    }\n",
       "\n",
       "    .dataframe thead th {\n",
       "        text-align: right;\n",
       "    }\n",
       "</style>\n",
       "<table border=\"1\" class=\"dataframe\">\n",
       "  <thead>\n",
       "    <tr style=\"text-align: right;\">\n",
       "      <th></th>\n",
       "      <th>a</th>\n",
       "    </tr>\n",
       "  </thead>\n",
       "  <tbody>\n",
       "    <tr>\n",
       "      <th>0</th>\n",
       "      <td>1</td>\n",
       "    </tr>\n",
       "    <tr>\n",
       "      <th>1</th>\n",
       "      <td>2</td>\n",
       "    </tr>\n",
       "  </tbody>\n",
       "</table>\n",
       "</div>"
      ],
      "text/plain": [
       "   a\n",
       "0  1\n",
       "1  2"
      ]
     },
     "execution_count": null,
     "metadata": {},
     "output_type": "execute_result"
    }
   ],
   "source": [
    "pd.DataFrame(dict(a=[1,2]))"
   ]
  },
  {
   "cell_type": "code",
   "execution_count": null,
   "id": "7181bbfc",
   "metadata": {},
   "outputs": [],
   "source": [
    "import matplotlib.pyplot as plt"
   ]
  },
  {
   "cell_type": "code",
   "execution_count": null,
   "id": "933fef8f",
   "metadata": {},
   "outputs": [
    {
     "data": {
      "image/png": "[encoded data removed]",
      "text/plain": [
       "<Figure size 144x72 with 1 Axes>"
      ]
     },
     "metadata": {
      "needs_background": "light"
     },
     "output_type": "display_data"
    }
   ],
   "source": [
    "#|notest\n",
    "plt.figure(figsize=(2,1))\n",
    "plt.plot([1,2]);"
   ]
  },
  {
   "attachments": {
    "image-2.png": {
     "image/png": "[encoded data removed]"
    }
   },
   "cell_type": "markdown",
   "id": "5fd8b07a",
   "metadata": {},
   "source": [
    "My pic:\n",
    "![image-2.png](attachment:image-2.png)"
   ]
  },
  {
   "cell_type": "code",
   "execution_count": null,
   "id": "14481872",
   "metadata": {},
   "outputs": [
    {
     "name": "stdout",
     "output_type": "stream",
     "text": [
      "you will not be able to see this cell at all\n"
     ]
    }
   ],
   "source": [
    "#|hide\n",
    "print('you will not be able to see this cell at all')"
   ]
  },
  {
   "cell_type": "code",
   "execution_count": null,
   "id": "b73a3841",
   "metadata": {},
   "outputs": [],
   "source": [
    "def show():\n",
    "    a = 2\n",
    "    b = 3 #|hide_line"
   ]
  },
  {
   "cell_type": "code",
   "execution_count": null,
   "id": "27a4a82b",
   "metadata": {},
   "outputs": [
    {
     "name": "stdout",
     "output_type": "stream",
     "text": [
      "hi\n",
      "CPU times: user 1.32 ms, sys: 165 µs, total: 1.48 ms\n",
      "Wall time: 881 µs\n"
     ]
    }
   ],
   "source": [
    "%%time\n",
    "print('hi')"
   ]
  },
  {
   "cell_type": "code",
   "execution_count": null,
   "id": "89fd5aca",
   "metadata": {},
   "outputs": [
    {
     "name": "stdout",
     "output_type": "stream",
     "text": [
      "hi\n"
     ]
    }
   ],
   "source": [
    "%%bash\n",
    "echo hi"
   ]
  },
  {
   "cell_type": "code",
   "execution_count": null,
   "id": "b7cdf5c6",
   "metadata": {},
   "outputs": [],
   "source": [
    "#|export\n",
    "def some_func(a=1): ..."
   ]
  },
  {
   "cell_type": "code",
   "execution_count": null,
   "id": "745d66d8-1669-411c-a7b4-c10ba6b096fd",
   "metadata": {},
   "outputs": [],
   "source": [
    "#|export\n",
    "def another_func(b): \n",
    "    \"A link in a docstring: `ModuleMaker`.\"\n",
    "    pass\n",
    "def and_another(c): ..."
   ]
  },
  {
   "cell_type": "code",
   "execution_count": null,
   "id": "8c751591",
   "metadata": {},
   "outputs": [
    {
     "data": {
      "text/markdown": [
       "---\n",
       "\n",
       "#### another_func\n",
       "\n",
       "> **`another_func`**` (b)`\n",
       "\n",
       "A link in a docstring: `ModuleMaker`."
      ],
      "text/plain": [
       "<nbdev.showdoc.BasicMarkdownRenderer>"
      ]
     },
     "execution_count": null,
     "metadata": {},
     "output_type": "execute_result"
    }
   ],
   "source": [
    "show_doc(another_func) # should only appear once"
   ]
  },
  {
   "cell_type": "code",
   "execution_count": null,
   "id": "be043747",
   "metadata": {},
   "outputs": [
    {
     "name": "stdout",
     "output_type": "stream",
     "text": [
      "A line\n",
      "Foobar baz FutureWarning blah\n",
      "zig zagMultiIndex zoom\n",
      "Another line.\n"
     ]
    }
   ],
   "source": [
    "#|filter_stream FutureWarning MultiIndex\n",
    "print('\\n'.join(['A line', 'Foobar baz FutureWarning blah', 'zig zagMultiIndex zoom', 'Another line.']))"
   ]
  },
  {
   "cell_type": "code",
   "execution_count": null,
   "id": "b02ef463",
   "metadata": {},
   "outputs": [],
   "source": [
    "def cool_func(a):\n",
    "    '''This cell has \"hidden\" metadata property'''\n",
    "    pass"
   ]
  },
  {
   "cell_type": "markdown",
   "id": "e06ecf02",
   "metadata": {},
   "source": [
    "# A heading to Hide -"
   ]
  },
  {
   "cell_type": "markdown",
   "id": "ee691141-b4d3-46ce-8a87-37e536276291",
   "metadata": {},
   "source": [
    "## Another! Heading -"
   ]
  },
  {
   "cell_type": "markdown",
   "id": "03dfb7a0-bdc6-4d16-8b22-82495f7a302f",
   "metadata": {},
   "source": [
    "some words"
   ]
  },
  {
   "cell_type": "markdown",
   "id": "6788928c-3e21-4cbf-a44e-75fc2c71edfd",
   "metadata": {},
   "source": [
    "## Yet another heading to hide. -"
   ]
  },
  {
   "cell_type": "markdown",
   "id": "84e4bb08-ffe9-405a-9da6-606f90bb0d3b",
   "metadata": {},
   "source": [
    "This is a link to `numpy.array` and to `ModuleMaker` but not a link to `foobar`.\n",
    "And not a link to <code>dict2nb</code>."
   ]
  },
  {
   "cell_type": "code",
   "execution_count": null,
   "id": "46c80afd",
   "metadata": {},
   "outputs": [],
   "source": [
    "#|exporti\n",
    "class a(Exception): ..."
   ]
  },
  {
   "cell_type": "code",
   "execution_count": null,
   "id": "bdd3f149",
   "metadata": {},
   "outputs": [],
   "source": [
    "#|exports\n",
    "class b(a): ..."
   ]
  },
  {
   "cell_type": "code",
   "execution_count": null,
   "id": "bd2f67a1",
   "metadata": {},
   "outputs": [
    {
     "data": {
      "text/plain": [
       "__main__.b()"
      ]
     },
     "execution_count": null,
     "metadata": {},
     "output_type": "execute_result"
    }
   ],
   "source": [
    "b()"
   ]
  },
  {
   "cell_type": "code",
   "execution_count": null,
   "id": "1c22aa7d",
   "metadata": {},
   "outputs": [],
   "source": []
  }
 ],
 "metadata": {
  "kernelspec": {
   "display_name": "Python 3 (ipykernel)",
   "language": "python",
   "name": "python3"
  }
 },
 "nbformat": 4,
 "nbformat_minor": 5
}
